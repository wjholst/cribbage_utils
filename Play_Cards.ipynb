{
  "nbformat": 4,
  "nbformat_minor": 0,
  "metadata": {
    "colab": {
      "name": "Play Cards.ipynb",
      "provenance": [],
      "include_colab_link": true
    },
    "kernelspec": {
      "name": "python3",
      "display_name": "Python 3"
    }
  },
  "cells": [
    {
      "cell_type": "markdown",
      "metadata": {
        "id": "view-in-github",
        "colab_type": "text"
      },
      "source": [
        "<a href=\"https://colab.research.google.com/github/wjholst/cribbage/blob/main/Play_Cards.ipynb\" target=\"_parent\"><img src=\"https://colab.research.google.com/assets/colab-badge.svg\" alt=\"Open In Colab\"/></a>"
      ]
    },
    {
      "cell_type": "code",
      "metadata": {
        "id": "exSk9Zz-y55M"
      },
      "source": [
        "## Play of Hand\n",
        "\n",
        "## Players alternate playing a card at a time. They play until 31 is reached or until neither player can play without the running count going over 31. At this point, the running count is reset to 0."
      ],
      "execution_count": 2,
      "outputs": []
    },
    {
      "cell_type": "code",
      "metadata": {
        "colab": {
          "base_uri": "https://localhost:8080/"
        },
        "id": "ZgAcS6VFMmAh",
        "outputId": "084d82f8-53a3-4990-86fd-323a257115e7"
      },
      "source": [
        "import random\n",
        "import numpy as np\n",
        "\n",
        "def card_count (c):\n",
        "    if c >= 11:\n",
        "        return 10\n",
        "    else:\n",
        "        return c\n",
        "\n",
        "def find_largest_b4_31 (remaining, running):\n",
        "    \n",
        "\n",
        "    rsorted = sorted(remaining,reverse=True)\n",
        "    go = False\n",
        "    card = 0\n",
        "    still_looking = True\n",
        "    rsorted.append (0)\n",
        "    while still_looking:\n",
        "      for i, c in enumerate(rsorted):\n",
        "        sc = card_count(c)\n",
        "        #print ('sc + running is ' + str(sc+running))          \n",
        "        if (sc + running) > 31:\n",
        "            pass\n",
        "        elif c == 0:\n",
        "            #print(' c is 0')\n",
        "            card = 0\n",
        "            go = True\n",
        "            still_looking = False\n",
        "            break\n",
        "        elif (sc + running) <= 31:\n",
        "            card = c\n",
        "            #print (set(remaining).difference([card]))\n",
        "            remaining = list(set(remaining).difference([card]))\n",
        "            still_looking = False   \n",
        "            break\n",
        "        \n",
        "        else:\n",
        "            still_looking = False\n",
        "            card = 0\n",
        "            go = True\n",
        "            break\n",
        "\n",
        "    return card, go, remaining\n",
        "\n",
        " \n",
        "print(find_largest_b4_31 ([10,8,13],24))"
      ],
      "execution_count": 3,
      "outputs": [
        {
          "output_type": "stream",
          "text": [
            "(0, True, [10, 8, 13])\n"
          ],
          "name": "stdout"
        }
      ]
    },
    {
      "cell_type": "code",
      "metadata": {
        "id": "zxsrOmyjMscc"
      },
      "source": [
        "\n",
        "\n",
        "count_remaining = 8        \n",
        "\n"
      ],
      "execution_count": 4,
      "outputs": []
    },
    {
      "cell_type": "code",
      "metadata": {
        "colab": {
          "base_uri": "https://localhost:8080/"
        },
        "id": "DhB-NJR15s0I",
        "outputId": "59485beb-2e86-41d0-ac6c-6aa0baa1a182"
      },
      "source": [
        "def play_in_order (cards):\n",
        "    if len(cards) == 0:\n",
        "        return 0, []\n",
        "    else:\n",
        "        print ('type of cards is ' + str(type(cards)))\n",
        "        return int(cards[0]), cards[1:]    \n",
        "cd = [3,5,11,4]\n",
        "print (play_in_order (cd))        "
      ],
      "execution_count": 5,
      "outputs": [
        {
          "output_type": "stream",
          "text": [
            "type of cards is <class 'list'>\n",
            "(3, [5, 11, 4])\n"
          ],
          "name": "stdout"
        }
      ]
    },
    {
      "cell_type": "code",
      "metadata": {
        "colab": {
          "base_uri": "https://localhost:8080/"
        },
        "id": "dYhoGjRMMsoF",
        "outputId": "372a1294-4020-495e-f835-9e62972c68b3"
      },
      "source": [
        "\n",
        "\n",
        "def select_dealer_card (cards, pcio):\n",
        "    if pcio:\n",
        "        return (play_in_order(cards))\n",
        "    if len(cards) == 0:\n",
        "        return 0, []\n",
        "    sorted_c = sorted(cards,reverse=True)\n",
        "    c = sorted_c[0]\n",
        "    remaining = sorted_c[1:]\n",
        "    \n",
        "    return int(c), remaining\n",
        "\n",
        "cd = [4,5,7,8,13]\n",
        "select_dealer_card (cd, True)    "
      ],
      "execution_count": 6,
      "outputs": [
        {
          "output_type": "stream",
          "text": [
            "type of cards is <class 'list'>\n"
          ],
          "name": "stdout"
        },
        {
          "output_type": "execute_result",
          "data": {
            "text/plain": [
              "(4, [5, 7, 8, 13])"
            ]
          },
          "metadata": {
            "tags": []
          },
          "execution_count": 6
        }
      ]
    },
    {
      "cell_type": "code",
      "metadata": {
        "colab": {
          "base_uri": "https://localhost:8080/"
        },
        "id": "ivHpFb7FMszO",
        "outputId": "7845e1e9-fd65-4838-8f42-a8aa3322ccea"
      },
      "source": [
        "def select_random_card (cards, pcio):\n",
        "    if pcio:\n",
        "        return play_in_order(cards)\n",
        "    if len(cards) == 0:\n",
        "        return 0, []\n",
        "    c = random.sample (cards,1)\n",
        "    remaining = list(set(cards).difference(c))\n",
        "    return (c[0]), remaining\n",
        "select_random_card (cd, pcio=True)         "
      ],
      "execution_count": 7,
      "outputs": [
        {
          "output_type": "stream",
          "text": [
            "type of cards is <class 'list'>\n"
          ],
          "name": "stdout"
        },
        {
          "output_type": "execute_result",
          "data": {
            "text/plain": [
              "(4, [5, 7, 8, 13])"
            ]
          },
          "metadata": {
            "tags": []
          },
          "execution_count": 7
        }
      ]
    },
    {
      "cell_type": "code",
      "metadata": {
        "id": "mbzZPQ2f5Pab"
      },
      "source": [
        ""
      ],
      "execution_count": 7,
      "outputs": []
    },
    {
      "cell_type": "code",
      "metadata": {
        "colab": {
          "base_uri": "https://localhost:8080/"
        },
        "id": "1gdfKfeOM7SX",
        "outputId": "704bb9ae-b40d-49bc-e9e1-bc19a10ab80b"
      },
      "source": [
        "def is_run (arr):\n",
        "    is_run = True\n",
        "    arr = np.sort(arr)\n",
        "    prior = arr[0]\n",
        "    for a in arr[1:]:\n",
        "        consecutive = (prior + 1) == a\n",
        "        is_run = is_run and consecutive\n",
        "        #print (is_run)\n",
        "        prior = a.copy()\n",
        "    return is_run\n",
        "\n",
        "a = np.array ([4,7,5,6])\n",
        "print (is_run(a))"
      ],
      "execution_count": 8,
      "outputs": [
        {
          "output_type": "stream",
          "text": [
            "True\n"
          ],
          "name": "stdout"
        }
      ]
    },
    {
      "cell_type": "code",
      "metadata": {
        "colab": {
          "base_uri": "https://localhost:8080/"
        },
        "id": "cC5eYGKKM7e3",
        "outputId": "aac2ec44-420b-4b9e-a21c-550a899fc9e5"
      },
      "source": [
        "\n",
        "def is_same (lst):\n",
        "    same = True\n",
        "    first = lst[0]\n",
        "    for c in lst[1:]:\n",
        "        same = same and c == first \n",
        "    return same \n",
        "\n",
        "l = [3,3,3]\n",
        "print (is_same (l))"
      ],
      "execution_count": 9,
      "outputs": [
        {
          "output_type": "stream",
          "text": [
            "True\n"
          ],
          "name": "stdout"
        }
      ]
    },
    {
      "cell_type": "code",
      "metadata": {
        "colab": {
          "base_uri": "https://localhost:8080/"
        },
        "id": "ZT0spZ0QM7op",
        "outputId": "2f1287da-3788-4b56-f1c7-e724d93fc51e"
      },
      "source": [
        "\n",
        "\n",
        "def score_pairs (lastn):\n",
        "    if len(lastn) > 4:\n",
        "        return score_pairs (lastn[1:]) \n",
        "\n",
        "    elif len(lastn) == 4:\n",
        "        if is_same(lastn):\n",
        "            return 12\n",
        "        else:\n",
        "            return score_pairs (lastn[1:])         \n",
        "    elif len(lastn) == 3:\n",
        "        if is_same (lastn):\n",
        "            print ('pairs score 6')\n",
        "            return 6\n",
        "        else:\n",
        "            return score_pairs (lastn[1:])\n",
        "    elif len(lastn) == 2:\n",
        "        if is_same(lastn):\n",
        "            print ('pairs score 2')\n",
        "            return 2\n",
        "    else:\n",
        "        return 0\n",
        "    return 0             \n",
        "\n",
        "print (score_pairs ([5,4,3,3,3]))"
      ],
      "execution_count": 10,
      "outputs": [
        {
          "output_type": "stream",
          "text": [
            "pairs score 6\n",
            "6\n"
          ],
          "name": "stdout"
        }
      ]
    },
    {
      "cell_type": "code",
      "metadata": {
        "colab": {
          "base_uri": "https://localhost:8080/"
        },
        "id": "RqLWA768SZDZ",
        "outputId": "83aed272-dcd2-4af1-a734-04803287bbf9"
      },
      "source": [
        "def score_runs (lastn):\n",
        "    if len(lastn) < 3:\n",
        "        return 0\n",
        "    else:    \n",
        "        tmp = np.sort(lastn)\n",
        "        if is_run (tmp):\n",
        "            print ('runs score ' + str(len(tmp)))\n",
        "            return len(tmp)\n",
        "        else:\n",
        "            return (score_runs(lastn[1:]))\n",
        "        \n",
        "print (score_runs([5,6,5,4,7]))"
      ],
      "execution_count": 11,
      "outputs": [
        {
          "output_type": "stream",
          "text": [
            "runs score 4\n",
            "4\n"
          ],
          "name": "stdout"
        }
      ]
    },
    {
      "cell_type": "code",
      "metadata": {
        "colab": {
          "base_uri": "https://localhost:8080/"
        },
        "id": "uJ5QU_skRml7",
        "outputId": "f7820eda-3d7e-4509-f116-ea75de7bdd3d"
      },
      "source": [
        "\n",
        "def evaluate_card (cd, lastn, running):\n",
        "    # note, the longest possible run is 7 cards, 1 thru 7, which totals to 28\n",
        "    score_15 = 0\n",
        "    pair_score = 0\n",
        "    run_score = 0\n",
        "    score_31 = 0\n",
        "\n",
        "    tmp = np.sort(lastn)\n",
        "    if card_count (cd) + running == 15:\n",
        "        print ('total is 15 for 2')\n",
        "        score_15 = 2\n",
        "    if card_count(cd) + running == 31:\n",
        "        print ( ' total is 31 for 2')\n",
        "        score_31 = 2\n",
        "    pair_score = score_pairs (lastn)\n",
        "    run_score = score_runs(lastn)\n",
        "    return score_15, pair_score, run_score, score_31\n",
        "\n",
        "print (evaluate_card (7,[6,8,7],24))\n"
      ],
      "execution_count": 12,
      "outputs": [
        {
          "output_type": "stream",
          "text": [
            " total is 31 for 2\n",
            "runs score 3\n",
            "(0, 0, 3, 2)\n"
          ],
          "name": "stdout"
        }
      ]
    },
    {
      "cell_type": "code",
      "metadata": {
        "id": "0ZxJbTjs1SjG"
      },
      "source": [
        "import time\n",
        "def play_next():\n",
        "    pass\n",
        "def show(txt):\n",
        "    print (txt)\n",
        "    time.sleep (.2)"
      ],
      "execution_count": 13,
      "outputs": []
    },
    {
      "cell_type": "code",
      "metadata": {
        "id": "rvnkN3rb7nFq"
      },
      "source": [
        "def draw_card (is_player):\n",
        "    pass\n"
      ],
      "execution_count": null,
      "outputs": []
    },
    {
      "cell_type": "code",
      "metadata": {
        "colab": {
          "base_uri": "https://localhost:8080/"
        },
        "id": "PDZq4xiYzo_H",
        "outputId": "440214e4-1d5e-41c9-e260-c567c5d0a7e3"
      },
      "source": [
        "import time\n",
        "def play_of_hand (dealer_hand, opponent_hand, is_player, running, count_remaining, pcio):\n",
        "  \n",
        "  player_score = 0\n",
        "  dealer_score = 0\n",
        "  count_remaining = 8\n",
        "  remaining_opponent = opponent_hand.copy()\n",
        "  remaining_dealer = dealer_hand.copy()\n",
        "  while count_remaining >= 1:\n",
        "    print ('.........while..count remaining is ' +str(count_remaining)) \n",
        "    if running == 0:\n",
        "        print ('  start of new sequence')\n",
        "        lastn = []\n",
        "        if is_player:\n",
        "            card, remaining_opponent = select_random_card (remaining_opponent, pcio)\n",
        "            show ('player plays ' + str(card))\n",
        "        else: \n",
        "            card, remaining_dealer = select_dealer_card(remaining_dealer, pcio)\n",
        "            show('dealer plays ' + str(card)) \n",
        "        lastn.append (card)\n",
        "        running = card_count(int(card))\n",
        "        show ('running score is ' + str(running))\n",
        "        is_player = not is_player\n",
        "        count_remaining -= 1\n",
        "        print (running)    \n",
        "    elif running < 22:                \n",
        "        if is_player:\n",
        "            print ('opponent remaining hand is ' + str(remaining_opponent))\n",
        "            card, remaining_opponent = select_random_card (remaining_opponent,pcio)\n",
        "            show ('player plays ' + str(card))\n",
        "        else: \n",
        "            print ('dealer remaining hand is ' + str(remaining_dealer))\n",
        "            card, remaining_dealer = select_dealer_card(remaining_dealer,pcio)\n",
        "            show ('dealer plays ' + str(card))\n",
        "        lastn.append (card)\n",
        "        count_remaining -= 1    \n",
        "        score_15, pair_score, run_score, score_31 = evaluate_card (\n",
        "            card, lastn, running)\n",
        "        running += card_count(card)\n",
        "        show ('running score is ' + str(running))\n",
        "        if is_player:\n",
        "            player_score += score_15 + pair_score + run_score + score_31\n",
        "            show ('player score is now ' + str(player_score))\n",
        "        else:\n",
        "            dealer_score += score_15 + pair_score + run_score + score_31\n",
        "            show ('dealer score is now ' + str(dealer_score))    \n",
        "        is_player = not is_player\n",
        "        if running == 31:\n",
        "            print ('last running total was 31..resetting')\n",
        "            running = 0 \n",
        "            lastn = []\n",
        "    else: # need to find a card that fits\n",
        "        if is_player:\n",
        "            card, is_opponent_go, remaining_opponent = find_largest_b4_31 (\n",
        "                remaining_opponent, running)\n",
        "            if card > 0:\n",
        "                print ('found valid card..' + str(card) )\n",
        "                lastn.append(card)\n",
        "                score_15, pair_score, run_score, score_31 = evaluate_card (\n",
        "                    card, lastn, running)\n",
        "                running += card_count(card)\n",
        "                count_remaining -= 1\n",
        "                show ('running score is ' + str(running))\n",
        "                player_score += score_15 + pair_score + run_score + score_31\n",
        "                show ('player score is now ' + str(player_score))\n",
        "                \n",
        "                is_player = not is_player \n",
        "                if running == 31:\n",
        "                    running = 0\n",
        "                    lastn = []\n",
        "            elif is_opponent_go:\n",
        "                show ('player says go..dealer will play')\n",
        "                still_playing = True\n",
        "                while still_playing:\n",
        "                    card, is_dealer_go, remaining_dealer = find_largest_b4_31 (\n",
        "                        remaining_dealer, running)\n",
        "                    show ('player attempts ' + str(card))    \n",
        "                    if is_dealer_go:\n",
        "                        show ('dealer says go')\n",
        "                        still_playing = False\n",
        "                        dealer_score += 1\n",
        "                        show ('dealer score is now ' + str(dealer_score))\n",
        "                        running = 0\n",
        "                        lastn = []    \n",
        "                    else:\n",
        "                        print ('valid card .. ' + str(card))\n",
        "                        lastn.append(card)\n",
        "                        score_15, pair_score, run_score, score_31 = evaluate_card (\n",
        "                            card, lastn, running)\n",
        "                        running += card_count(card)\n",
        "                        show ('running score is ' + str(running))\n",
        "                        dealer_score += score_15 + pair_score + run_score + score_31\n",
        "                        show ('dealer score is now ' + str(dealer_score)) \n",
        "                        count_remaining -= 1\n",
        "                        if score_31 == 2:\n",
        "                            #dealer_score += 2 #for 31\n",
        "                            still_playing = False\n",
        "                            running = 0\n",
        "                            lastn = []\n",
        "        else: #is dealer\n",
        "\n",
        "            card, is_dealer_go, remaining_dealer = find_largest_b4_31 (\n",
        "                remaining_dealer, running)\n",
        "            if card > 0:\n",
        "                print ('found valid card..' + str(card) )\n",
        "                lastn.append(card)\n",
        "                score_15, pair_score, run_score, score_31 = evaluate_card (\n",
        "                    card, lastn, running)\n",
        "                running += card_count(card)\n",
        "                count_remaining -= 1\n",
        "                show ('running score is ' + str(running))\n",
        "                dealer_score += score_15 + pair_score + run_score + score_31\n",
        "                show ('dealer score is now ' + str(dealer_score)) \n",
        "                is_player = not is_player\n",
        "                if running == 31:\n",
        "                    running = 0\n",
        "                    lastn = 0\n",
        "            elif is_dealer_go:\n",
        "                show ('  dealer says go')\n",
        "                still_playing = True\n",
        "                while still_playing:\n",
        "                    card, is_opponent_go, remaining_opponent = find_largest_b4_31 (\n",
        "                        remaining_opponent, running)\n",
        "                    if is_opponent_go:\n",
        "                        show ('opponent says go')\n",
        "                        still_playing = False\n",
        "                        player_score += 1\n",
        "                        count_remaining -= 1\n",
        "                        show ('player scores 1 for go -score is ' + str(player_score))\n",
        "                        running = 0\n",
        "                        lastn = []\n",
        "                        show ('running score reset to ' + str(running))\n",
        "                    else:\n",
        "                        lastn.append(card)\n",
        "                        score_15, pair_score, run_score, score_31 = evaluate_card (\n",
        "                            card, lastn, running)\n",
        "                        running += card_count(card)\n",
        "                        show ('running score is ' + str(running))\n",
        "                        player_score += score_15 + pair_score + run_score + score_31\n",
        "                        show ('player score is now ' + str(player_score)) \n",
        "                        count_remaining -= 1\n",
        "                        if score_31 == 2:\n",
        "                            #player_score += 2 #for go\n",
        "                            show ('player scores 2 for 31 -score is ' + str(player_score))\n",
        "                            still_playing = False\n",
        "                            running = 0\n",
        "                            lastn = []\n",
        "                            show ('running score reset to ' + str(running))\n",
        "\n",
        "  if is_player:\n",
        "      dealer_score += 1\n",
        "      show ('dealer has last card, final dealer score is ' + str(dealer_score))\n",
        "      show ('final player score is ' + str(player_score))\n",
        "  else:\n",
        "      player_score += 1\n",
        "      show ('player has last card, final playerscore is ' + str(player_score))\n",
        "      show ('final dealer score is ' + str(dealer_score))            \n",
        "\n",
        "play_cards_in_order = True\n",
        "is_player = False                                   \n",
        "#play_of_hand ([3,4,5,13],[4,6,5,12],is_player,0,8, play_cards_in_order)            \n",
        "#play_of_hand ([11,4,5,8],[4,6,12,12],is_player,0,8, play_cards_in_order)     \n",
        "#play_of_hand ([6,9,10,12],[12,4,2,3],False,0,8, play_cards_in_order)   \n",
        "#play_of_hand ([12,8,5,5],[9,10,13,13],False,0,8, play_cards_in_order)  \n",
        "#play_of_hand ([8,9,9,9],[11,4,12,12],False,0,8, play_cards_in_order)  \n",
        "#play_of_hand ([13,4,5,6],[4,6,8,8],False,0,8, play_cards_in_order)   \n",
        "#play_of_hand ([4,3,2,1],[4,1,10,10],False,0,8, play_cards_in_order) \n",
        "#play_of_hand ([10,13,10,5],[13,1,12,3],False,0,8, play_cards_in_order)   \n",
        "#play_of_hand ([9,2,7,6],[3,2,1,1],True,0,8, play_cards_in_order)  \n",
        "#play_of_hand ([12,13,11,2],[12,1,11,5],False,0,8, play_cards_in_order)  \n",
        "play_of_hand ([13,13,1,4],[5,5,4,3],True,0,8, play_cards_in_order)"
      ],
      "execution_count": 14,
      "outputs": [
        {
          "output_type": "stream",
          "text": [
            ".........while..count remaining is 8\n",
            "  start of new sequence\n",
            "type of cards is <class 'list'>\n",
            "player plays 5\n",
            "running score is 5\n",
            "5\n",
            ".........while..count remaining is 7\n",
            "dealer remaining hand is [13, 13, 1, 4]\n",
            "type of cards is <class 'list'>\n",
            "dealer plays 13\n",
            "total is 15 for 2\n",
            "running score is 15\n",
            "dealer score is now 2\n",
            ".........while..count remaining is 6\n",
            "opponent remaining hand is [5, 4, 3]\n",
            "type of cards is <class 'list'>\n",
            "player plays 5\n",
            "running score is 20\n",
            "player score is now 0\n",
            ".........while..count remaining is 5\n",
            "dealer remaining hand is [13, 1, 4]\n",
            "type of cards is <class 'list'>\n",
            "dealer plays 13\n",
            "running score is 30\n",
            "dealer score is now 2\n",
            ".........while..count remaining is 4\n",
            "player says go..dealer will play\n",
            "player attempts 1\n",
            "valid card .. 1\n",
            " total is 31 for 2\n",
            "running score is 31\n",
            "dealer score is now 4\n",
            ".........while..count remaining is 3\n",
            "  start of new sequence\n",
            "type of cards is <class 'list'>\n",
            "player plays 4\n",
            "running score is 4\n",
            "4\n",
            ".........while..count remaining is 2\n",
            "dealer remaining hand is [4]\n",
            "type of cards is <class 'list'>\n",
            "dealer plays 4\n",
            "pairs score 2\n",
            "running score is 8\n",
            "dealer score is now 6\n",
            ".........while..count remaining is 1\n",
            "opponent remaining hand is [3]\n",
            "type of cards is <class 'list'>\n",
            "player plays 3\n",
            "running score is 11\n",
            "player score is now 0\n",
            "player has last card, final playerscore is 1\n",
            "final dealer score is 6\n"
          ],
          "name": "stdout"
        }
      ]
    },
    {
      "cell_type": "code",
      "metadata": {
        "colab": {
          "base_uri": "https://localhost:8080/"
        },
        "id": "8aE8B675uyIv",
        "outputId": "36993545-c211-4103-d662-6a21be701d0c"
      },
      "source": [
        "# build card dictionary\n",
        "\n",
        "cards = []\n",
        "card_filenames = []\n",
        "\n",
        "for s,name in enumerate(['SPADE','HEART','DIAMOND','CLUB']):\n",
        "    for c in range (1,14):\n",
        "        crd = (s+1) * 100 + c\n",
        "        cards.append (crd)\n",
        "        nm = name + '-' + str(c)\n",
        "        if c == 11:\n",
        "            nm += '-JACK' \n",
        "        elif c == 12:\n",
        "            nm += '-QUEEN'\n",
        "        elif c == 13:\n",
        "            nm += '-KING'\n",
        "        nm += '.svg'\n",
        "        card_filenames.append (nm)    \n",
        "\n",
        "card_lookup = {c:n for c,n in zip(cards,card_filenames)}\n",
        "card_lookup_reverse = {n:c for c,n in zip(cards,card_filenames)}\n",
        "card_lookup_reverse['SPADE-3.svg']"
      ],
      "execution_count": 15,
      "outputs": [
        {
          "output_type": "execute_result",
          "data": {
            "text/plain": [
              "103"
            ]
          },
          "metadata": {
            "tags": []
          },
          "execution_count": 15
        }
      ]
    },
    {
      "cell_type": "code",
      "metadata": {
        "colab": {
          "base_uri": "https://localhost:8080/"
        },
        "id": "EITcZCvVxvcs",
        "outputId": "52f65ab9-0eea-4253-ca90-b5306f9d74e0"
      },
      "source": [
        "card_filenames"
      ],
      "execution_count": 16,
      "outputs": [
        {
          "output_type": "execute_result",
          "data": {
            "text/plain": [
              "['SPADE-1.svg',\n",
              " 'SPADE-2.svg',\n",
              " 'SPADE-3.svg',\n",
              " 'SPADE-4.svg',\n",
              " 'SPADE-5.svg',\n",
              " 'SPADE-6.svg',\n",
              " 'SPADE-7.svg',\n",
              " 'SPADE-8.svg',\n",
              " 'SPADE-9.svg',\n",
              " 'SPADE-10.svg',\n",
              " 'SPADE-11-JACK.svg',\n",
              " 'SPADE-12-QUEEN.svg',\n",
              " 'SPADE-13-KING.svg',\n",
              " 'HEART-1.svg',\n",
              " 'HEART-2.svg',\n",
              " 'HEART-3.svg',\n",
              " 'HEART-4.svg',\n",
              " 'HEART-5.svg',\n",
              " 'HEART-6.svg',\n",
              " 'HEART-7.svg',\n",
              " 'HEART-8.svg',\n",
              " 'HEART-9.svg',\n",
              " 'HEART-10.svg',\n",
              " 'HEART-11-JACK.svg',\n",
              " 'HEART-12-QUEEN.svg',\n",
              " 'HEART-13-KING.svg',\n",
              " 'DIAMOND-1.svg',\n",
              " 'DIAMOND-2.svg',\n",
              " 'DIAMOND-3.svg',\n",
              " 'DIAMOND-4.svg',\n",
              " 'DIAMOND-5.svg',\n",
              " 'DIAMOND-6.svg',\n",
              " 'DIAMOND-7.svg',\n",
              " 'DIAMOND-8.svg',\n",
              " 'DIAMOND-9.svg',\n",
              " 'DIAMOND-10.svg',\n",
              " 'DIAMOND-11-JACK.svg',\n",
              " 'DIAMOND-12-QUEEN.svg',\n",
              " 'DIAMOND-13-KING.svg',\n",
              " 'CLUB-1.svg',\n",
              " 'CLUB-2.svg',\n",
              " 'CLUB-3.svg',\n",
              " 'CLUB-4.svg',\n",
              " 'CLUB-5.svg',\n",
              " 'CLUB-6.svg',\n",
              " 'CLUB-7.svg',\n",
              " 'CLUB-8.svg',\n",
              " 'CLUB-9.svg',\n",
              " 'CLUB-10.svg',\n",
              " 'CLUB-11-JACK.svg',\n",
              " 'CLUB-12-QUEEN.svg',\n",
              " 'CLUB-13-KING.svg']"
            ]
          },
          "metadata": {
            "tags": []
          },
          "execution_count": 16
        }
      ]
    },
    {
      "cell_type": "code",
      "metadata": {
        "id": "00oYGpiVzSCQ"
      },
      "source": [
        "import random\n",
        "\n",
        "class Hands:\n",
        "    computer_hand = []\n",
        "    player_hand = []\n",
        "    starter = []\n",
        "\n",
        "    def __init__(self):\n",
        "        pass\n",
        "    \n",
        "    def deal_hands (self):\n",
        "        hands = random.sample (cards,13)\n",
        "        print (hands)\n",
        "\n",
        "        self.player_hand = hands[:6]\n",
        "        self.computer_hand = hands[6:12]\n",
        "        self.starter = hands[12]\n",
        "    def get_player_hand (self):\n",
        "        hand = np.array(self.player_hand)\n",
        "        hand_n = (hand % 100)\n",
        "        stacked = np.column_stack([hand, hand_n])\n",
        "        sorted_hand = stacked[stacked[:, 1].argsort()]\n",
        "        return (sorted_hand[:,0])\n",
        "    \n",
        "    def get_computer_hand (self):\n",
        "        hand = np.array(self.computer_hand)\n",
        "        hand_n = (hand % 100)\n",
        "        stacked = np.column_stack([hand, hand_n])\n",
        "        sorted_hand = stacked[stacked[:, 1].argsort()]\n",
        "        return (sorted_hand[:,0])\n",
        "    \n",
        "    def get_starter_card (self):\n",
        "        return [self.starter]\n",
        "\n"
      ],
      "execution_count": 17,
      "outputs": []
    },
    {
      "cell_type": "code",
      "metadata": {
        "colab": {
          "base_uri": "https://localhost:8080/",
          "height": 248
        },
        "id": "cv5s5hP4s9Qg",
        "outputId": "6be1d155-7088-4619-c556-170a8cd0e3f8"
      },
      "source": [
        "h = Hands()\n",
        "h.deal_hands()\n",
        "\n",
        "player_hand = h.get_player_hand()\n",
        "player_cardnames = [card_lookup[cn] for cn in player]\n",
        "computer_hand = h.get_computer_hand()\n",
        "starter = h.get_starter_card()\n",
        "\n",
        "print (player_hand)\n",
        "print (player_cardnames)\n",
        "print (computer_hand)\n",
        "print (starter)\n"
      ],
      "execution_count": 18,
      "outputs": [
        {
          "output_type": "stream",
          "text": [
            "[311, 303, 208, 210, 313, 111, 402, 406, 104, 107, 101, 113, 103]\n"
          ],
          "name": "stdout"
        },
        {
          "output_type": "error",
          "ename": "NameError",
          "evalue": "ignored",
          "traceback": [
            "\u001b[0;31m---------------------------------------------------------------------------\u001b[0m",
            "\u001b[0;31mNameError\u001b[0m                                 Traceback (most recent call last)",
            "\u001b[0;32m<ipython-input-18-04dac92a5163>\u001b[0m in \u001b[0;36m<module>\u001b[0;34m()\u001b[0m\n\u001b[1;32m      3\u001b[0m \u001b[0;34m\u001b[0m\u001b[0m\n\u001b[1;32m      4\u001b[0m \u001b[0mplayer_hand\u001b[0m \u001b[0;34m=\u001b[0m \u001b[0mh\u001b[0m\u001b[0;34m.\u001b[0m\u001b[0mget_player_hand\u001b[0m\u001b[0;34m(\u001b[0m\u001b[0;34m)\u001b[0m\u001b[0;34m\u001b[0m\u001b[0;34m\u001b[0m\u001b[0m\n\u001b[0;32m----> 5\u001b[0;31m \u001b[0mplayer_cardnames\u001b[0m \u001b[0;34m=\u001b[0m \u001b[0;34m[\u001b[0m\u001b[0mcard_lookup\u001b[0m\u001b[0;34m[\u001b[0m\u001b[0mcn\u001b[0m\u001b[0;34m]\u001b[0m \u001b[0;32mfor\u001b[0m \u001b[0mcn\u001b[0m \u001b[0;32min\u001b[0m \u001b[0mplayer\u001b[0m\u001b[0;34m]\u001b[0m\u001b[0;34m\u001b[0m\u001b[0;34m\u001b[0m\u001b[0m\n\u001b[0m\u001b[1;32m      6\u001b[0m \u001b[0mcomputer_hand\u001b[0m \u001b[0;34m=\u001b[0m \u001b[0mh\u001b[0m\u001b[0;34m.\u001b[0m\u001b[0mget_computer_hand\u001b[0m\u001b[0;34m(\u001b[0m\u001b[0;34m)\u001b[0m\u001b[0;34m\u001b[0m\u001b[0;34m\u001b[0m\u001b[0m\n\u001b[1;32m      7\u001b[0m \u001b[0mstarter\u001b[0m \u001b[0;34m=\u001b[0m \u001b[0mh\u001b[0m\u001b[0;34m.\u001b[0m\u001b[0mget_starter_card\u001b[0m\u001b[0;34m(\u001b[0m\u001b[0;34m)\u001b[0m\u001b[0;34m\u001b[0m\u001b[0;34m\u001b[0m\u001b[0m\n",
            "\u001b[0;31mNameError\u001b[0m: name 'player' is not defined"
          ]
        }
      ]
    }
  ]
}